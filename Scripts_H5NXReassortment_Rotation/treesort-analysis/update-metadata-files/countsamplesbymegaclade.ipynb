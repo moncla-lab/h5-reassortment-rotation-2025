{
 "cells": [
  {
   "cell_type": "code",
   "execution_count": 32,
   "id": "447322b5-6a0f-43f5-b6b2-2bd5e96cd4dc",
   "metadata": {},
   "outputs": [
    {
     "name": "stdout",
     "output_type": "stream",
     "text": [
      "2321s: 1903\n",
      "2344s: 3545\n",
      "2344b: 19685\n",
      "AmnonGsGD: 914\n",
      "EAnonGsGD: 546\n",
      "other: 2622\n"
     ]
    }
   ],
   "source": [
    "#count number of straints/samples by megaclade\n",
    "#read in the file, go to h5_megaclade column and iterate through and count how many strains are in each megaclade\n",
    "\n",
    "InFileName = \"data/metadata-with-megaclade-updateddates.tsv\"  # Metadata file with updated dates \n",
    "InFile = open(InFileName, 'r') # Open the metadata file\n",
    "\n",
    "# Read header and get indexes for strain and date columns\n",
    "Header = InFile.readline().strip().split('\\t')\n",
    "megaclade_index = Header.index(\"h5_megaclade\")# Index of the date in metadata\n",
    "segment_index = Header.index(\"n_segments\")\n",
    "\n",
    "# List of megaclade names\n",
    "megaclade = [\"2.3.2.1s\", \"2.3.4.4s\", \"2.3.4.4b\", \"Am-nonGsGD\", \"EA-nonGsGD\", \"other\"]\n",
    "\n",
    "count_2321s = 0\n",
    "count_2344s = 0\n",
    "count_2344b = 0\n",
    "count_AmnonGsGD = 0\n",
    "count_EAnonGsGD = 0\n",
    "count_other = 0\n",
    "\n",
    "# Process the metadata and store the strain name and corresponding date\n",
    "for Line in InFile:\n",
    "    ElementList = Line.strip().split('\\t')  # Split the line into columns\n",
    "\n",
    "    megaclade_name = ElementList[megaclade_index]  # Get the strain name\n",
    "    segment_name = ElementList[segment_index]\n",
    "\n",
    "    if segment_name == \"8\": \n",
    "\n",
    "        # for name in megaclade: \n",
    "        if megaclade_name == \"2.3.2.1s\":\n",
    "            count_2321s += 1\n",
    "        elif megaclade_name == \"2.3.4.4s\":\n",
    "            count_2344s += 1\n",
    "        elif megaclade_name == \"2.3.4.4b\":\n",
    "            count_2344b +=1\n",
    "        elif megaclade_name == \"Am-nonGsGD\":\n",
    "            count_AmnonGsGD += 1\n",
    "        elif megaclade_name == \"EA-nonGsGD\":\n",
    "            count_EAnonGsGD += 1\n",
    "        elif megaclade_name == \"other\":\n",
    "            count_other += 1\n",
    "\n",
    "    \n",
    "# Close the files\n",
    "InFile.close()\n",
    "\n",
    "print(\"2321s:\", count_2321s)\n",
    "print(\"2344s:\", count_2344s)\n",
    "print(\"2344b:\", count_2344b)\n",
    "print(\"AmnonGsGD:\", count_AmnonGsGD)\n",
    "print(\"EAnonGsGD:\", count_EAnonGsGD)\n",
    "print(\"other:\", count_other)\n",
    "\n"
   ]
  },
  {
   "cell_type": "code",
   "execution_count": 29,
   "id": "f58b0ef9-30bb-4974-a0a4-32bc0624ccb1",
   "metadata": {},
   "outputs": [
    {
     "name": "stdout",
     "output_type": "stream",
     "text": [
      "2.3.2.1s: 1903\n",
      "2.3.4.4s: 3545\n",
      "2.3.4.4b: 19685\n",
      "Am-nonGsGD: 914\n",
      "EA-nonGsGD: 546\n",
      "other: 2622\n"
     ]
    }
   ],
   "source": [
    "# Define the path to the metadata file\n",
    "in_file_name = \"data/metadata-with-megaclade-updateddates.tsv\"\n",
    "\n",
    "# Open the file and process it\n",
    "with open(in_file_name, 'r') as in_file:\n",
    "    # Read header and get the index of the megaclade column\n",
    "    header = in_file.readline().strip().split('\\t')\n",
    "    megaclade_index = header.index(\"h5_megaclade\")\n",
    "    segment_index = header.index(\"n_segments\")\n",
    "\n",
    "    # Initialize a dictionary to count strains per megaclade\n",
    "    megaclade_counts = {\n",
    "        \"2.3.2.1s\": 0,\n",
    "        \"2.3.4.4s\": 0,\n",
    "        \"2.3.4.4b\": 0,\n",
    "        \"Am-nonGsGD\": 0,\n",
    "        \"EA-nonGsGD\": 0,\n",
    "        \"other\": 0\n",
    "    }\n",
    "\n",
    "    # Iterate over each line and count occurrences\n",
    "    for line in in_file:\n",
    "        element_list = line.strip().split('\\t')\n",
    "        megaclade_name = element_list[megaclade_index]\n",
    "        segment_name = element_list[segment_index]\n",
    "\n",
    "        if segment_name != \"8\":\n",
    "            continue\n",
    "\n",
    "        if megaclade_name in megaclade_counts:\n",
    "            megaclade_counts[megaclade_name] += 1\n",
    "        else:\n",
    "            # Optionally handle unexpected megaclade names\n",
    "            print(f\"Warning: Unknown megaclade '{megaclade_name}' found.\")\n",
    "\n",
    "# Print results\n",
    "for name, count in megaclade_counts.items():\n",
    "    print(f\"{name}: {count}\")\n"
   ]
  },
  {
   "cell_type": "code",
   "execution_count": null,
   "id": "7b6b3931-a86e-4071-9fab-a66a9b59583f",
   "metadata": {},
   "outputs": [],
   "source": []
  }
 ],
 "metadata": {
  "kernelspec": {
   "display_name": "Python [conda env:base] *",
   "language": "python",
   "name": "conda-base-py"
  },
  "language_info": {
   "codemirror_mode": {
    "name": "ipython",
    "version": 3
   },
   "file_extension": ".py",
   "mimetype": "text/x-python",
   "name": "python",
   "nbconvert_exporter": "python",
   "pygments_lexer": "ipython3",
   "version": "3.12.3"
  }
 },
 "nbformat": 4,
 "nbformat_minor": 5
}
