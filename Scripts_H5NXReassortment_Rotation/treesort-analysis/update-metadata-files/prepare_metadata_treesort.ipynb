{
 "cells": [
  {
   "cell_type": "code",
   "execution_count": 29,
   "id": "f8b4a1fc-9fd6-41f2-a42f-8ac77eb61296",
   "metadata": {},
   "outputs": [],
   "source": [
    "#Goal for this script is to read the metadata-with-megaclades.tsv\n",
    "#Then replace any of the xx's in the date column (what index is that?) with 01 (default Jan 1)\n",
    "#After it has done that, we want to write a new file? or new metadata file? where we append the date to the end of the strain name\n",
    "#Example: A/Brantacanadensis/Belgium/133930002/2022 | 2022-11-16 (pipe followed by the date)\n",
    "\n",
    "#Thinking about in this script (since we are already reading in the metadata-with-megaclades.tsv) \n",
    "#Would it be worth appending strains where host = laboratoryderived or environment (as this can already be done in the Snakefile)\n",
    "\n",
    "#Read this file\n",
    "InFileName = \"metadata-with-megaclade.tsv\" #MEGACLADE column included in the metadata\n",
    "InFile = open(InFileName, 'r')\n",
    "\n",
    "#Out file of metadata plus, the XX's in the dates have been replaced with 01\n",
    "OutFileName_dates = \"metadata-with-megaclade-updateddates.tsv\"\n",
    "OutFile_dates = open(OutFileName_dates, 'w')\n",
    "\n",
    "# Initialize the counter used to keep track of line numbers\n",
    "LineNumber = 0\n",
    "\n",
    "#Process header separately\n",
    "Header = InFile.readline().strip()\n",
    "OutFile_dates.write(Header + \"\\n\") #adds header back to the new outfile\n",
    "LineNumber +=1\n",
    "\n",
    "\n",
    "for Line in InFile: \n",
    "    if LineNumber > 0:\n",
    "        Line = Line.strip('\\n') #remove line ending characters (is this necessary?)\n",
    "        ElementList = Line.split('\\t') #not necessary since tsv = tab separated value? (okay maybe necessary, keep it in)\n",
    "   \n",
    "        #need it to read the date column (4th column) = [3]\n",
    "        H5RawDate = ElementList[3]\n",
    "        FixedDate = H5RawDate.replace('XX', '01')\n",
    "\n",
    "        # Update the date column with the fixed date\n",
    "        ElementList[3] = FixedDate\n",
    "\n",
    "        #Append the fixed date to the strain name\n",
    "        ElementList[0] = ElementList[0] + \"|\" + FixedDate\n",
    "\n",
    "        OutFile_dates.write('\\t'.join(ElementList) + '\\n') #this reassembles my list of columns into a properly formatted TSV line\n",
    "\n",
    "        LineNumber = LineNumber + 1\n",
    "\n",
    "InFile.close()\n",
    "OutFile_dates.close()"
   ]
  },
  {
   "cell_type": "code",
   "execution_count": null,
   "id": "70a1ab1c-7eb7-4da7-a553-4a026cb7975b",
   "metadata": {},
   "outputs": [],
   "source": []
  }
 ],
 "metadata": {
  "kernelspec": {
   "display_name": "Python [conda env:base] *",
   "language": "python",
   "name": "conda-base-py"
  },
  "language_info": {
   "codemirror_mode": {
    "name": "ipython",
    "version": 3
   },
   "file_extension": ".py",
   "mimetype": "text/x-python",
   "name": "python",
   "nbconvert_exporter": "python",
   "pygments_lexer": "ipython3",
   "version": "3.12.3"
  }
 },
 "nbformat": 4,
 "nbformat_minor": 5
}
