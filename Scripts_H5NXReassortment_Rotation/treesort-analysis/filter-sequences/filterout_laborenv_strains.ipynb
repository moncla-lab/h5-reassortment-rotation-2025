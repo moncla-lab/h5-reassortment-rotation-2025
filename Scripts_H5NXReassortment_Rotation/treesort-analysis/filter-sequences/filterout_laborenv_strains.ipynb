{
 "cells": [
  {
   "cell_type": "code",
   "execution_count": 11,
   "id": "13a5f7a3-1816-4cad-9525-6df2c396ea2b",
   "metadata": {},
   "outputs": [
    {
     "name": "stdout",
     "output_type": "stream",
     "text": [
      "0 Process complete. Excluded strains have been appended.\n"
     ]
    }
   ],
   "source": [
    "#Read metadata-with-megaclade-updateddates file\n",
    "#Append strain to exlude_strains.txt if Host=LaboratoryDerived or Host=Enivornmnet\n",
    "\n",
    "InFileName = \"data/metadata-with-megaclade-updateddates.tsv\"  # Metadata file with updated dates \n",
    "InFile = open(InFileName, 'r') # Open the metadata file\n",
    "\n",
    "# Read header and get indexes for strain and date columns\n",
    "Header = InFile.readline().strip().split('\\t')\n",
    "strain_index = Header.index(\"strain\")  # Index of the strain name in metadata\n",
    "host_index = Header.index(\"host\")  # Index of the date in metadata\n",
    "\n",
    "OutFileName = \"config/exclude_strains.txt\"\n",
    "OutFile = open(OutFileName, 'a')\n",
    "\n",
    "# Use a set to collect unique sequence IDs\n",
    "UniqueIDs = set()\n",
    "\n",
    "# Process the metadata and store the strain name and corresponding date\n",
    "for Line in InFile:\n",
    "    count = 0\n",
    "    ElementList = Line.strip().split('\\t')  # Split the line into columns\n",
    "\n",
    "    strain_name = ElementList[strain_index]  # Get the strain name\n",
    "    host = ElementList[host_index]  # Get the host\n",
    "    # metadata_dict[strain_name] = host # Add to dictionary\n",
    "\n",
    "    # Check if the host is either \"LaboratoryDerived\" or \"Environment\"\n",
    "    if host == \"LaboratoryDerived\" or host == \"Environment\": \n",
    "        # Append the strain name to the exclude file\n",
    "        count += 1\n",
    "        OutFile.write(strain_name + '\\n')\n",
    "    \n",
    "# Close the files\n",
    "InFile.close()\n",
    "OutFile.close()\n",
    "\n",
    "print(count, \"Process complete. Excluded strains have been appended.\")\n"
   ]
  },
  {
   "cell_type": "code",
   "execution_count": null,
   "id": "01e7f057-d572-4252-a342-c690a68359c7",
   "metadata": {},
   "outputs": [],
   "source": []
  },
  {
   "cell_type": "code",
   "execution_count": null,
   "id": "f33c1077-1f58-4976-8bb5-343cf613cfd7",
   "metadata": {},
   "outputs": [],
   "source": []
  }
 ],
 "metadata": {
  "kernelspec": {
   "display_name": "Python [conda env:base] *",
   "language": "python",
   "name": "conda-base-py"
  },
  "language_info": {
   "codemirror_mode": {
    "name": "ipython",
    "version": 3
   },
   "file_extension": ".py",
   "mimetype": "text/x-python",
   "name": "python",
   "nbconvert_exporter": "python",
   "pygments_lexer": "ipython3",
   "version": "3.12.3"
  }
 },
 "nbformat": 4,
 "nbformat_minor": 5
}
