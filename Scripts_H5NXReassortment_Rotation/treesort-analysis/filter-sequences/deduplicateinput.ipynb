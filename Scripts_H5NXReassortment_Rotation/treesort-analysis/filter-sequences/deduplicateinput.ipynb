{
 "cells": [
  {
   "cell_type": "code",
   "execution_count": 18,
   "id": "cbb12fed-2d76-461b-8a07-2e833db32ee8",
   "metadata": {},
   "outputs": [
    {
     "name": "stdout",
     "output_type": "stream",
     "text": [
      "Wrote 30472 sequences with unique IDs to data/withdates/deduplicated/h5nx_ns.fasta\n"
     ]
    }
   ],
   "source": [
    "from Bio import SeqIO\n",
    "\n",
    "SEGMENTS = [\"ha\", \"na\", \"mp\", \"pb1\", \"pa\", \"pb2\", \"np\", \"ns\"]\n",
    "path_to_fasta_files = \"data/withdates/\"\n",
    "\n",
    "for gene in SEGMENTS: \n",
    "    input_fasta = path_to_fasta_files + \"h5nx_\" + gene + \".fasta\"\n",
    "    out_file = path_to_fasta_files + \"deduplicated/h5nx_\" + gene + \".fasta\"\n",
    "    seen_ids = set()\n",
    "    unique_records = []\n",
    "\n",
    "    for record in SeqIO.parse(input_fasta, \"fasta\"):\n",
    "        record_id_lower = record.id.lower()  # 👈 convert ID to lowercase\n",
    "        if record_id_lower not in seen_ids:\n",
    "            unique_records.append(record)\n",
    "            seen_ids.add(record_id_lower)\n",
    "            \n",
    "    SeqIO.write(unique_records, out_file, \"fasta\")\n",
    "    \n",
    "print(f\"Wrote {len(unique_records)} sequences with unique IDs to {out_file}\")"
   ]
  },
  {
   "cell_type": "code",
   "execution_count": null,
   "id": "d6a7e640-a967-41b5-b2c6-f581363329b5",
   "metadata": {},
   "outputs": [],
   "source": []
  }
 ],
 "metadata": {
  "kernelspec": {
   "display_name": "Python [conda env:base] *",
   "language": "python",
   "name": "conda-base-py"
  },
  "language_info": {
   "codemirror_mode": {
    "name": "ipython",
    "version": 3
   },
   "file_extension": ".py",
   "mimetype": "text/x-python",
   "name": "python",
   "nbconvert_exporter": "python",
   "pygments_lexer": "ipython3",
   "version": "3.12.3"
  }
 },
 "nbformat": 4,
 "nbformat_minor": 5
}
