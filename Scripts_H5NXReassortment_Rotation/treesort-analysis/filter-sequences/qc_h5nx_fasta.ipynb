{
 "cells": [
  {
   "cell_type": "code",
   "execution_count": 3,
   "id": "3742fda2-7669-4519-b3d9-2ab6068525ad",
   "metadata": {},
   "outputs": [],
   "source": [
    "import pandas as pd \n",
    "import os\n",
    "\n",
    "# SeqIO is a module developed for working with fasta files and sequences. It is part of the larger package called Bio \n",
    "from Bio import SeqIO"
   ]
  },
  {
   "cell_type": "code",
   "execution_count": 4,
   "id": "e392e103-f37e-416a-a51e-1840d59dd0df",
   "metadata": {},
   "outputs": [],
   "source": [
    "def fasta_to_df(path_to_fasta):\n",
    "    FASTANAME = path_to_fasta\n",
    "    fasta_data = []\n",
    "    with open(FASTANAME) as f:\n",
    "        header = \"\"\n",
    "        sequence = \"\"\n",
    "        for line in f:\n",
    "            if line.startswith(\">\"):\n",
    "                if header != \"\":\n",
    "                    fasta_data.append({\"header\": header, \"sequence\": sequence})\n",
    "                header = line.strip()\n",
    "                sequence = \"\"\n",
    "            else:\n",
    "                sequence += line.strip()\n",
    "        fasta_data.append({\"header\": header, \"sequence\": sequence}) #last line\n",
    "    fasta_df = pd.DataFrame(fasta_data)\n",
    "    return(fasta_df)"
   ]
  },
  {
   "cell_type": "code",
   "execution_count": 42,
   "id": "686ec7d2-0809-42ba-8226-6f42bd001b7c",
   "metadata": {},
   "outputs": [],
   "source": [
    "def fasta_writer(path, filename, df):\n",
    "            \n",
    "    try:  \n",
    "        os.mkdir(path)\n",
    "\n",
    "    except OSError as error:\n",
    "        pass\n",
    "\n",
    "    with open(f\"{path}{filename}\", \"w\") as f:\n",
    "        for index, row in df.iterrows():\n",
    "            f.write(f\"{row['header']}\\n\")\n",
    "            f.write(f\"{row['sequence']}\\n\")"
   ]
  },
  {
   "cell_type": "code",
   "execution_count": null,
   "id": "51c850c2-9839-4def-894e-05af62c99705",
   "metadata": {},
   "outputs": [],
   "source": []
  },
  {
   "cell_type": "code",
   "execution_count": null,
   "id": "cc509f20-b41e-4c6c-a749-6c7cfffdbaaa",
   "metadata": {},
   "outputs": [],
   "source": [
    "#I think Louise helped me with this\n",
    "#The goal was to identify sequence ids/strains where the gene segment name appeared in the sequence (aka nonnucleotides)"
   ]
  },
  {
   "cell_type": "code",
   "execution_count": 27,
   "id": "46ce42e2-59e6-4f4f-859e-181af5c0fafa",
   "metadata": {},
   "outputs": [
    {
     "name": "stdout",
     "output_type": "stream",
     "text": [
      "ha\n",
      "caggggttcactctgtcaaaatggagaacatagtactacttcttgcaatagttagccttgttaaaagtgatcagatttgcattggttaccatgcaaacaattcgacagagcaagttgacacgataatggaaaagaacgtcactgttacacatgcccaagacatactggaaaaaacacacaacgggaagctctgtgatctaaatggggtgaagccactgattttaaaggattgtagtgtagctggatggctcctcggaaacccaatgtgcgacgaattcatcagagtgccggaatggtcctacatagtggagcgggctaacccagctaatgacctctgttacccagggagcctcaatgactatgaagaactgaaacacatgttgagcagaataaatcattttgagaagattctgatcattcccaagagttcctggccaaatcatgaaacatcactaggggtgagcgcagcttgtccataccagggagcgccctcctttttcagaaatgtggtgtggcttatcaaaaagaacgatgcatacccaacaataaagataagctacaataataccaatcgggaagatctcttgatactgtgggggattcatcattccaacaatgcagaagagcagacaaatctctacaaaaacccaaccacctacatttcagttggaacatcaactttaaaccagaggttggcaccaaaaatagctactagatcccaagtaaacgggcaacgtggaagaatggacttcttctggacaatcttaaaaccagatgatgcaatccatttcgagagtaacggaaatttcattgctccagaatatgcatacaaaattgtcaagaaaggggactcaacaattatgaaaagtggagtggaatatggccactgcaacaccaaatgtcaaaccccagtaggtgcgataaattctagtatgccattccacaacatacatcctctcaccattggggaatgccccaaatacgtgaagtcaaacaagttggtccttgcgactgggctcagaaatagtcctctaagagaaaagagaagaaaaagaggcctgtttggggcgatagcagggtttatagagggaggatggcagggcatggttgatggttggtatgggtaccatcatagcaatgagcaggggagtgggtacgctgcggacaaagaatccacccaaaaggcaatagatggagtcaccaataaggtcaactcaatcattgacaaaatgaacactcaatttgaggcagttggaagggagtttaataacttagaaaggaggatagagaatttgaacaagaaaatggaagacggattcctagatgtctggacctataatgctgaacttctagttctcatggaaaacgagaggactctagatttccatgattcaaatgtcaagaacctttacgacaaagtcagattacagcttagggataatgcaaaggagctgggtaacggctgtttcgaattctatcacaaatgtgataatgaatgtatggaaagtgtgagaaatgggacgtatgactaccctcagtattcagaagaagcaagattaaaaagagaagaaataagcggagtgaaattagaatcagtaggaacttaccagatactgtcaatttattcaacagctgcaagttccctagcactggcaatcatgatggctggtctatctttatggatgtgctccaatgggtcgttacagtgcagaatttgcatttagatttgtgagctcagattgtagttaaaaacacccttgt\n",
      "47\n",
      "na\n",
      "aaagcaggagttcaaaatgaatccaaatcaaaagataacaaccattggatcaatctgtatggtaattgggatagtcagcttgatgctgcaaattgggaacgtaatctcaatatgggttagccattcaatccaaacagggaatcaataccaacctgaaccatgcaatcaaagcatcattacctatgagaacaacatctgggtaaatcagacgtatgtcaacatcagcaataccaattttcttgctgagcaggctgttacttcggtaacattagcgggcaattcatctctttgccctattagtgggtgggcaatatacagtaaggacaacggtataagaattgggtccaagggggatgtgtttgttataagagaaccgttcatctcatgctcccacttggaatgcagaacctttttcctgacccagggagctctgctgaatgacaaacattctaatgggaccgttaaggatagaagcccttatagaactttgatgagttgtcccgtgggtgaggctccttccccgtacaattcaagatttgagtctgttgcttggtcggcaagtgcttgtcatgatggcatcagttggttgacaatcggtatttctggtccagacaatggagctgtggctgtattgaagtacaatggcataataacggatactatcaagagttggagaaacaacattttgagaactcaagaatctgaatgtgcttgcgtaaatggctcttgcttcaccgtaatgactgatggaccaagcaatgggcaggcctcatataaaatcttcaagatagagaaagggaaagttatcaaatcagttgaattgaatgcccctaattaccactacgaggaatgctcctgttatcctgatgcgggtgatattatgtgtgtgtgcagggacaattggcatggctcaaaccggccgtgggtatcttttaatcaaaatctggagtatcaaataggatatatatgcagtggggttttcggggacaatccccgccccaatgatggaacaggcagttgcagtccaatgtcctctaatggggcatatggggtaaaagggttttcatttaagtacggtaatggggtttggatcggaagaacaaaaagcactagttccagaagcggctttgagatgatttgggatccgaatgggtggactgagacggacagtagtttctcagtgaagcaagacattgtagaaataactgactggtcaggatatagtgggagttttgtccagcatccagaactgacaggattagattgcatgaggccttgtttctgggttgagctaattagagggaggcccaaagagaacacaatttggactagcgggagcagcatatccttttgtggtgtaaatagtgacactgtgggttggtcttggccagacggtgctgagttgccattcaccattgacaagtagtttgttcaaaaaactccttgtttctact\n",
      "590\n",
      "mp\n",
      "atgagtcttctaaccgaggtcgaaacgtacgttctctctatcgtcccgtcgggccccctcaaagccgagatcgcgcagagacttgaagatgtctttgcagggaagaacaccgatcttgaggctctcatggaatggctaaagacaagaccaatcctgtcacctctgactaaggggattttgggatttgtgttcacgctcaccgtgcccagtgagcgaggactgcagcgtagacgctttgtccaaaatgctctaaatggaaatggagacccaaacaacatggacagggcagtcaagttgtacaggaaactgaagagagagataacattccatggggctaaagaagttgcactcagttactcaaccggtgcacttgccagttgtatgggtctcatatacaacaggatggggacggtgaccgcagaagtggcattgggcctagtgtgtgccacctgtgagcagattgctgattcacagcatcggtctcacagacagatagctaccaccaccaacccactaatcagacatgaaaacagaatggtgttggccagtactacagctaaggccatggagcagatggctggatcgagtgagcaagcagtggaagccatggaggttgctagtcaggctaggcagatggtgcaggcgatgaggaccattggaactcatcctagctccagtgccggtctgagagatgatctccttgaaaatttgcaggcctaccaaaaacggatgggagtgcaactgcagcgattcaagtgatcctctcgttattgccgcaagcatcattgggatcttgcacttgatattgtggattcttgatcgccttttcttcaaatgcgtttatcgtcgccttaaatacggtttgaaaggagggccttctacggaaggagtacctgagtccatgagggaggagtaccggcaggaacagcagagtgctgtggatgttgacgatggtcattttgtcaacatagagctggagta\n",
      "48\n",
      "pb1\n",
      "atggatgtcaatccgactttacttttcttgaaagttccagcgcaaaatgccataagcactacattcccgtatactggagatcctccatacagccatggaacaggaacaggatataccatggacacagttaacagaacacatcagtattcagaaaaagggaaatggacaacaaactcagaaactggagcacctcaactcaatccaattgatggaccattgcctgaggacaatgaaccaagtgggtatgcacaaacggactgtgtccttgaagcaatggctttccttgaagagtcccacccaggaatctttgaaaactcgtgtcttgaaacgatggaagttgttcaacaaacaagagtggacaagttgacccaaggccgtcagacctatgattggacgttaaacaggaatcagccggctgcaactgcattagctaatactatagaggtcttcagatctaacggcctcacagccaatgaatcaggaaggctaatagattttctcaaggatgtgatggaatcaatggataaggaggaaatggaaataacaacgcatttccaaaggaaaagaagagtgagagacaacatgaccaagaaaatggtcacacaaaggacaataggaaagaagaaacagaggctaaataaaaagagctatctaataagagcattgacactgaacacgatgacaaaagacgccgaaagaggcaaattaaaaagaagggcaattgcgacacctggaatgcaaatcagagggtttgtgtactttgttgaaacattagcgaggagcatttgtgataagcttgaacaatctggactcccagttgggggcaatgaaaagaaggctaaactggcaaatgttgtgagaaaaatgatgactaattcgcaggacacagagctctctttcacaatcactggagacaacaccaaatggaatgaaaatcagaaccctaggatgtttctggcaatgataacatatataacaaggaaccaacctgaatggttcaggaatgtcttaagcattgcacctataatgttctcaaataaaatggcaagactagggaaagggtacatgttcgaaagtaagagcatgaagctccgaacacaaataccagcagaaatgctagcaagcattgatctgaagtacttcaatgagtcaacaagaaagaaaatagagaagataagacctcttctaatagatggtacagcctcattaagcccaggaatgatgatgggcatgttcaatatgctgagtacagttttgggagtttcgattctaaatctagggcaaaggaggtacaccaaaacaacatactggtgggacggactccaatcctctgatgactttgctctcatagtgaatgctccgaatcatgagggaatacaagcaggggtagacagattctatagaacctgcaagctggtcggaatcaacatgagcaaaaagaagtcctacataaacaggacaggaacatttgaattcacaagttttttctaccgctatggatttgtagccaacttcagtatggagttgccgagctttggagtgtctgggatcaatgaatctgcagacatgagcattggagtaacagtgataaagaacaacatgatcaacaatgatcttggaccagcaacagctcaaatggctcttcagctattcatcaaggattacagatacacataccgatgtcacagaggagacacacaaattcagacaaggaggtcattcgagctgaagaagttgtgggaacagacccgctcaaaagcaggactgctggtctcagatggaggaccaaatctatacaatattcggaatcttcacattccagaagtctgcttgaaatgggagctaatggacgaagactatcagggaaggctttgtaatcccctgaacccgtttgtcagccacaaggaaatagagtctgtgaacaatgctgtggtgatgccagctcatggcccggccaagagcatggaatatgatgctgttgccaccactcactcctggataccgaagagaaaccgctccattctcaatacaagccaaaggggaatccttgaagacgaacagatgtatcaaaagtgctgcaacctgttcgaaaaattcttccctagcagttcatacaggaggccagttggaatttccagcatggtggaggccatggtttctagggcccgaattgacgcacgaattgacttcgaatctggacggattaagaaggaggagtttgctgagatcatgaagatctgttccaccattgaagagctcagacggcagaaatag\n",
      "0\n",
      "pa\n",
      "atggaagactttgtgcgacaatgcttcaatccaatgattgtcgagcttgcggaaaaagcaatgaaagaatatggggaagatccgaaaatcgagacaaacaaatttgccgcaatatgcacacacttagaagtctgtttcatgtattcggatttccattttattgatgaacgaggcgaatcaatgattgtagaatctggcgatccaaatgcattattgaaacaccgatttgagataatcgaagggagagaccgagaaatggcctggacagtggtgaatagcatctgcaacaccacaggggtcgaaaagcccaaattcctccctgatttgtatgactacaaagagaaccgattcattgaaattggagtaacgcgaagggaagttcacatatactatttagaaaaagccaacaagataaaatcagagaaaacacatattcacatattctcattcactggagaggaaatggccaccaaggcggactacacccttgatgaagagagcagagcaagaataaaaaccagactgttcactataagacaagaaatggccagtagaggtctatgggattcctttcgtcaatccgagagaggcgaagagacaattgaagaaagatttgaaatcacaggaaccatgcgcaggcttgccgaccaaagtcttccaccgaacttccccagccttgaaaactttagagcctatgtggatggattcgaaccgaacggctgcattgagggcaaactttctcaaatgtcaaaagaagtgaacgccagaattgagccatttctgaagacaacaccacgccctctcagattacctgatgggcctccctgttctcagcggtcgaagttcttgctgatggatgcccttaagttgagcatcgaagaccctagccatgagggggagggcataccgctgtatgatgcaatcaaatgcatgaagacattttttggctggaaagagcccaacatcgtaaagccgcatgagaaaggcataaaccctaattacctcctggcttggaagcaggtgctggcagaacttcaagacattgaaaatgaggagaaaattccaaaaacaaagaacatgaagaaaacaagccaattgaagtgggcacttggtgagaacatggctccagaaaaagtggactttgaggactgcaaagatgttagcgatctaagacagtacgacagtgacgaaccagagtctagatcactagcaagctggattcagagtgaattcaacaaggcatgcgaactgacagattcgagttggattgaacttgatgagataggggaagacgttgctccaatcgaacacattgcgagtgtgaggaggaactatttcacagcggaggtatcccattgcagggccactgaatacataatgaagggagtatacataaacacagccctattgaatgcatcctgtgcagccatggatgacttccaactgattccaatgataagtaagtgcagaactaaagaaggaagacggaagacaaatctgtatggattcattataaaaggaagatcccatttgaggaatgacaccgatgtggtaaactttgtgagcatggaattctctctaactgacccgaggctagagccacacaaatgggaaaagtactgtgttcttgagataggagacatgctcctacggactgcaataggccaagtgtcgaggcccatgttcctgtatgtgagaaccaatgggacttccaagatcaaaatgaaatggggcatggagatgaggcgatgccttcttcagtcccttcaacaaattgagagcatgattgaggccgaatcttctgtcaaagagaaggacatgtccaaggaattctttgaaaacaaatcagaaacatggccaattggagaatcacccaaaggggtggaggaaggctctattgggaaagtatgcagaacattgctagcaaagtctgtgttcaacagcctatatgcatctccacaactcgaggggttttcagctgaatcaagaaaattgcttctcattgttcaggcacttagggacaacctggaacctggaaccttcgatcttggggggctatatgaagcaattgaggagtgcctgattaacgatccctgggttttgcttaatgcatcttggttcaactccttcctcacacatgcactgaaatag\n",
      "47\n",
      "pb2\n",
      "atggagagaataaaagaactaagagatctaatgtcacagtctcgcactcgcgagatactgaccaaaaccactgttgaccacatggccataatcaaaaagtacacatcgggaaggcaagagaagaaccccgcactcagaatgaaatggatgatggcaatgaaatatccaattacagcagataagcgaataatggaaatgatccctgagaggaatgaacaagggcaaactctctggagcaaaacaaacgatgccggatcagaccgagtgatggtatcacccctggctgtgacatggtggaacaggaacggaccaacaacaagtacagttcactacccaaaggtatataaaacttatttcgaaaaagttgaaaggttgaaacacgggacctttggccctgtgcacttcagaaaccaagttaagataagacggagggtcgatataaacccgggccatgctgacctcagtgccaaagaggcgcaggatgtaatcatggaagtcgtcttcccaaatgaagtgggagcaaggatattgacgtcggagtcacaactgacgataacaaaggagaaaaaggaagaactccaggactgcaaaatcgctcctctgatggttgcatacatgctagaaagagagttggttcgcaagacgaggtttctcccagttgctggtgggacaagcagtgtctacattgaggtgctgcatttgactcaggggacatgctgggagcagatgtacactccgggaggagaagtgaagaacgatgatgtagaccaaagcttgatcattgctgccaggaatatagtaagaagagcaacagtatcagcagatccattagcatctctattggagatgtgtcacagcacacaaattgggggaataaggatggtagacatccttcggcaaaatccaacagaggaacaagccgtggatatatgcaaggcagcaatgggcttgaggattagctcatctttcagctttggtggattcacttttaaaagaacaagtggatcgtcagtcaaaaaagaagaagaagtgctaacaggcaaccttcaaacattgaaaataagagtacatgaggggtatgaagagttcacaatggttgggagaagagcaacggccattctcaggaaagcaaccagaaggctgatccagctaatagtaagtgggagagacgagcagtcaattgctgaagcaataattgtggccatggtattctcacaagaggactgcatgattaaagcagttagaggtgacctgaattttgtcaatagggcgaaccagcgactaaacccaatgcatcaactcttgagacatttccaaaaggatgcaaaggtgcttttccaaaattggggaattgaacccattgacaatgtgatgggaatgatcggggtaatgcccgacatgaccccaagtactgagatgtcgctgaggggaataagagtcagtaagatgggagtagatgaatactcaagtacagagcgagtagtagtaagcatcgaccggtttttaagagttcgagaccaacgggggaacgtactattatcacccgaagaggtcagtgagacacaaggaatggagaaactgacaatcacttattcgtcatcaatgatgtgggagatcaatggtcctgagtcggtgttggtcaatacttatcagtggataattagaaactgggaaactgtaaaaattcaatggtcacaggatcccacaatgttgtataataagatggaatttgagccattccagtctctagtccctaaggcagccagaggtcaatacagtgggtttgtgagaacactattccagcaaatgcgagatgtgcttggaacatttgacactgttcagataataaaactcctcccctttgctgccgccccaccggaacaaagtaggatgcagttctcctccctgactgtgaatgtaagaggatcaggaatgaggatactggtaagaggcaattcaccagtgttcaattacaacaaggccaccaagaggctcacagttctcgggaaagatgcaggtgcattgaccgaagatccagatgaaggcacagctggagtggagtctgctgttttaagaggattcctcattttgggcaaagaagacaagagatatggcccagcattgagcatcaatgagctgagcaatcttgcaaagggagagaaggctaatgtgctaattgggcaaggagacatagtgttggtgatgaaacggaaacgggactctagcatacttactgacagccagacagcgaccaaaagaattcggatggccatcaattag\n",
      "0\n",
      "np\n",
      "atggcgtctcaaggcaccaaacgatcctatgaacaaatggaaactggtggggaacgccagaatgccactgaaatcagagcatctgttggaagaatggttggcggaatcgggagattctacatacagatgtgcactgagctcaaactcagtgattacgaagggaggctgatccaaaacagcataaccatagaaaggatggttctctcggcatttgatgagaggaggaacaagtacctggaggaacatcccagtgccgggaaggatcccaagaagactggaggtccaatctacaggaggagagatggcaaatgggtgagagagttgatcctctacgacaaagaagagatcagaagaatttggcgtcaagctaataatggagaggatgcaactgctggtctcactcatttgatgatttggcattccaatctgaatgatgccacataccagagaacaagggcacttgtgcgtactggaatggaccctagaatgtgctctctgatgcaaggctcaaccctccctaggagatccggggctgctggagcagcagtgaaaggagttggaacaatggtgatggaactaattcggatgatcaaacgagggatcaatgatcggaatttctggagaggcgaaaacggtcggagaaccaggattgcctacgagagaatgtgcaacatcctcaagggaaagttccaaacagcagcacaacgggcaatgatggaccaagtgagagaaagccggaatcctgggaatgctgaaattgaagatctcatctttctcgcacgatctgctctcatcctgaggggttcagtggctcataagtcctgtctgcctgcttgcgtatatggacttgctgtagccagtggatatgactttgaaagagagggatattctctagtcggaattgatcctttccgtctgctccaaaacagccaagccttcagtctcatcagaccgaacgaaaatccagctcataaaagtcagctggtatggatggcatgccactctgcggcatttgaggatctgagagtgtcaagcttcatcagagggacaagagtagtcccaagaggacaactgtccaccagaggagttcagattgcttcaaatgaaaacatggagacaatgnactccagtactcttgaactgaggagcagatactgggctataagaacaagaagtggaggaaacactaaccaacagagagcatctgcaggacaaatcagcgtacagcccacattctctgtgcaaagaaacctcccatttgagagagcaaccatcatggcagcatttacgggaaacactgaaggcagaacttcagacatgagaactgagatcataaggatgatggaaaatgccagacctgaagatgtgtctttccaggggcggggagtcttcgagctctcggacgaaaaggcaacgaacccgatcgtgccttcctttgacatgagtaatgaaggatcttatttcttcggagacaatgcagaggagtatgacaattaa\n",
      "46\n",
      "ns\n",
      "atggattccaacactgtgtcaagctttcaggtagactgctttctttggcatgtccgcaaacgatttgcagaccaagaactgggtgatgccccattccttgaccggctccgccgagaccagaagtctctaagaggaagaggcagcactcttggtctggacatcgagacggccactcgtgctggaaagcagatagtggagaggattctggaggaagaatccgacgaggcactcaaaatgactattgcctctgtgcctgctccacgctacctaactgacatgactcttgaagagatgtcaagagactggttcatgctcatgcccaagcaaaaagtggcaggctccctctgtatcagaatggaccaggcgattatggataagaacatcatactgaaggcaaacttcagtgtgatcttcaatcggctggagacactaatactactcagagctttcactgaagagggagcaattgtcggcgaaatttcaccattgccttctcttccaggacatactgatgaggatgtcaaaaatgcaattggggtcctcatcggaggacttgaatggaatgataacacagttcgagtctctgaaactttacagagattcgcttggagaagcagtaatgaggatgggagacctccactccctccaaagcagaaacggaaaatggcgagaacaattgagtcagaagtttgaagaaataaggtggctgattgaagaagtgcgacacagactaaagatcacagaaaatagttttgaacaaataacatttatgcaagccttacaactactgcttgaagtggagcaagagataagaactttctcgtttcagcttatttaa\n",
      "47\n"
     ]
    }
   ],
   "source": [
    "SEGMENTS = [\"ha\",\"na\",\"mp\",\"pb1\",\"pa\",\"pb2\",\"np\",\"ns\"]\n",
    "\n",
    "path_to_fasta_files = \"../data/\"\n",
    "\n",
    "\n",
    "for gene in SEGMENTS: \n",
    "    count = 0\n",
    "    print(gene)\n",
    "    input_fasta = path_to_fasta_files + \"h5nx_\"+ gene + \".fasta\"\n",
    "\n",
    "    # reads in a fasta file, and iterates through every sequence in it \n",
    "    # seq.id = the name \n",
    "    # seq.seq = the sequence itself \n",
    "    for seq in SeqIO.parse(input_fasta, \"fasta\"): \n",
    "        sequence = str(seq.seq)  #seq.seq is an object - this converts it to a string \n",
    "\n",
    "        # if seq.id == \"A/glaucousgull/Alaska/22023553001/1905\":\n",
    "        #     print(seq.seq)\n",
    "        if sequence.endswith(gene): \n",
    "            #print(seq.id, \"gene name at end of sequence\")\n",
    "            count += 1\n",
    "        elif gene in sequence: \n",
    "            #print(seq.id, \"gene within sequence\")\n",
    "            count +=1\n",
    "        elif sequence.startswith(gene): \n",
    "            #print (seq.id, \"gene name at the start of sequence\")\n",
    "            count +=1\n",
    "        else: \n",
    "            pass\n",
    "\n",
    "    print(count)"
   ]
  },
  {
   "cell_type": "code",
   "execution_count": null,
   "id": "d88eac76-61c4-4d3d-8e37-7b7008e4e110",
   "metadata": {},
   "outputs": [],
   "source": []
  },
  {
   "cell_type": "code",
   "execution_count": 44,
   "id": "948ad782-8f4a-4942-8d9a-f5726f8c653a",
   "metadata": {},
   "outputs": [],
   "source": [
    "SEGMENTS = [\"ha\",\"na\",\"mp\",\"pb1\",\"pa\",\"pb2\",\"np\",\"ns\"]\n",
    "\n",
    "for gene in SEGMENTS:\n",
    "    df = fasta_to_df(f\"h5nx_{gene}.fasta\")\n",
    "    df[\"sequence\"]= df[\"sequence\"].str.lower()\n",
    "    df[\"sequence\"]= df['sequence'].str.replace(r'[^actgn]', '', case=False, regex=True)\n",
    "    fasta_writer(\"filtered/\",  f\"h5nx_{gene}.fasta\", df) \n",
    "\n",
    "\n"
   ]
  },
  {
   "cell_type": "code",
   "execution_count": null,
   "id": "d24bbf8e-e0fa-43a1-ada3-2a545e01a751",
   "metadata": {},
   "outputs": [],
   "source": []
  }
 ],
 "metadata": {
  "kernelspec": {
   "display_name": "Python [conda env:base] *",
   "language": "python",
   "name": "conda-base-py"
  },
  "language_info": {
   "codemirror_mode": {
    "name": "ipython",
    "version": 3
   },
   "file_extension": ".py",
   "mimetype": "text/x-python",
   "name": "python",
   "nbconvert_exporter": "python",
   "pygments_lexer": "ipython3",
   "version": "3.12.3"
  }
 },
 "nbformat": 4,
 "nbformat_minor": 5
}
