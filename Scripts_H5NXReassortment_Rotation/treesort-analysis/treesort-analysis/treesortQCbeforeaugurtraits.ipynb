{
 "cells": [
  {
   "cell_type": "code",
   "execution_count": 1,
   "id": "32b6ebd9-6fd3-47f5-809c-7341815b2698",
   "metadata": {},
   "outputs": [],
   "source": [
    "def treesort_QC(qc_input, qc_output):\n",
    "    \n",
    "    with open(qc_input, 'r') as file:\n",
    "        nexus = file.read()\n",
    "\n",
    "    # removing commas between segments\n",
    "    modified_nexus = re.sub(r'&rea=\"([^\"]+)\"', lambda match: f'&rea=\"{match.group(1).replace(\",\", \"-\")}\"', nexus)\n",
    "    # removing quotation marks around node names\n",
    "    modified_nexus = re.sub(r\"'(NODE_([0-9]{7}))'\", r'\\1', modified_nexus)\n",
    "    # replacing ? with _ so baltic can read it in\n",
    "    modified_nexus = modified_nexus.replace('?', '_')\n",
    "    # removing parenthese around reassorting segments augur traits and phylo bio works on it\n",
    "    modified_nexus = re.sub(r'\\((\\d+)\\)', r'^\\1', modified_nexus)\n",
    "    # removing excess info before tree starts (try just turning into nwk file?)\n",
    "    modified_nexus = re.sub(r\"(?<=BEGIN TREES;)(\\s+TREE 1 = \\[.*?\\])\", r\"\\n    Tree tree1 = \", modified_nexus, flags=re.DOTALL)\n",
    "\n",
    "    with open(qc_output, 'w') as output_file:\n",
    "        output_file.write(modified_nexus)"
   ]
  },
  {
   "cell_type": "code",
   "execution_count": null,
   "id": "d40d2c3d-ff9a-4343-8ab3-e680da6dd355",
   "metadata": {},
   "outputs": [],
   "source": [
    "treesort_QC(\"/Users/lsgong/Documents/UPENN/ROTATIONS/Moncla_Lab_Rotation/20250506TreeSortPilot2_bigtree_mincut/h5nx.annotated.tre\", \"h5nx_treesort.nwk\")"
   ]
  }
 ],
 "metadata": {
  "kernelspec": {
   "display_name": "Python [conda env:base] *",
   "language": "python",
   "name": "conda-base-py"
  },
  "language_info": {
   "codemirror_mode": {
    "name": "ipython",
    "version": 3
   },
   "file_extension": ".py",
   "mimetype": "text/x-python",
   "name": "python",
   "nbconvert_exporter": "python",
   "pygments_lexer": "ipython3",
   "version": "3.12.3"
  }
 },
 "nbformat": 4,
 "nbformat_minor": 5
}
